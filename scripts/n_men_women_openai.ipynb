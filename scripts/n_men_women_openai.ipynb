{
 "cells": [
  {
   "cell_type": "code",
   "execution_count": 16,
   "id": "8dbffb06-3383-4526-8c17-1c15a786aa43",
   "metadata": {},
   "outputs": [],
   "source": [
    "import os\n",
    "import base64\n",
    "import requests\n",
    "import json\n",
    "import pandas as pd\n",
    "import matplotlib.pyplot as plt\n",
    "from tqdm import tqdm\n",
    "import numpy as np\n",
    "from openai import OpenAI\n",
    "\n",
    "class OpenAIPeopleGenderAnalyzer:\n",
    "    def __init__(self, api_key=None):\n",
    "        self.api_key = api_key\n",
    "        self.client = OpenAI(api_key=self.api_key)\n",
    "        self.model = \"gpt-4o\"\n",
    "        print(\"Initialized OpenAI People Gender Analyzer\")\n",
    "\n",
    "    def analyze_image(self, image_path):\n",
    "        if not self.api_key:\n",
    "            return {\"error\": \"API key not provided\"}\n",
    "\n",
    "        if not os.path.exists(image_path):\n",
    "            return {\"error\": f\"Image file not found: {image_path}\"}\n",
    "\n",
    "        try:\n",
    "            with open(image_path, \"rb\") as image_file:\n",
    "                base64_image = base64.b64encode(image_file.read()).decode('utf-8')\n",
    "\n",
    "            prompt = \"\"\"\n",
    "            Analyze this image and:\n",
    "            1. Count the total number of people visible\n",
    "            2. For each person, predict their gender (male or female) and assign a confidence score between 0 and 1 (where higher is more confident)\n",
    "            3. Calculate the proportion of women in the image\n",
    "\n",
    "            Format your response exactly as follows (JSON format):\n",
    "            {\n",
    "                \"people_count\": number,\n",
    "                \"gender_predictions\": [\n",
    "                    {\"person_id\": 1, \"gender\": \"male/female\", \"confidence\": 0.XX},\n",
    "                    {\"person_id\": 2, \"gender\": \"male/female\", \"confidence\": 0.XX},\n",
    "                    ...\n",
    "                ],\n",
    "                \"female_proportion\": 0.XX\n",
    "            }\n",
    "\n",
    "            If there are no people in the image, return people_count as 0, empty gender_predictions array, and female_proportion as 0.\n",
    "            \"\"\"\n",
    "\n",
    "            response = self.client.chat.completions.create(\n",
    "                model=self.model,\n",
    "                messages=[\n",
    "                    {\n",
    "                        \"role\": \"user\",\n",
    "                        \"content\": [\n",
    "                            {\"type\": \"text\", \"text\": prompt},\n",
    "                            {\n",
    "                                \"type\": \"image_url\",\n",
    "                                \"image_url\": {\n",
    "                                    \"url\": f\"data:image/jpeg;base64,{base64_image}\"\n",
    "                                }\n",
    "                            }\n",
    "                        ]\n",
    "                    }\n",
    "                ],\n",
    "                max_tokens=1000\n",
    "            )\n",
    "\n",
    "            response_text = response.choices[0].message.content\n",
    "            json_start = response_text.find('{')\n",
    "            json_end = response_text.rfind('}') + 1\n",
    "            if json_start >= 0 and json_end > 0:\n",
    "                json_str = response_text[json_start:json_end]\n",
    "                try:\n",
    "                    analysis_result = json.loads(json_str)\n",
    "                    analysis_result[\"image_path\"] = image_path\n",
    "                    analysis_result[\"has_people\"] = analysis_result.get(\"people_count\", 0) > 0\n",
    "                    gender_predictions = analysis_result.get(\"gender_predictions\", [])\n",
    "                    female_count = sum(1 for pred in gender_predictions if pred.get(\"gender\") == \"female\")\n",
    "                    male_count = sum(1 for pred in gender_predictions if pred.get(\"gender\") == \"male\")\n",
    "                    analysis_result[\"female_count\"] = female_count\n",
    "                    analysis_result[\"male_count\"] = male_count\n",
    "                    gender_prediction_str = \", \".join([\n",
    "                        f\"person{pred['person_id']}: {pred['gender']} ({pred.get('confidence', 0):.2f})\"\n",
    "                        for pred in gender_predictions\n",
    "                    ])\n",
    "                    analysis_result[\"gender_prediction_str\"] = gender_prediction_str\n",
    "                    return analysis_result\n",
    "\n",
    "                except json.JSONDecodeError:\n",
    "                    return {\"error\": f\"Failed to parse API response as JSON: {response_text}\"}\n",
    "            else:\n",
    "                return {\"error\": f\"No valid JSON found in API response: {response_text}\"}\n",
    "\n",
    "        except Exception as e:\n",
    "            return {\"error\": f\"Error analyzing image: {str(e)}\"}\n",
    "\n",
    "    def analyze_directory(self, images_dir, output_csv=None, output_json_dir=None):\n",
    "        if not os.path.exists(images_dir):\n",
    "            print(f\"Directory not found: {images_dir}\")\n",
    "            return None\n",
    "\n",
    "        image_files = [\n",
    "            os.path.join(images_dir, file)\n",
    "            for file in os.listdir(images_dir)\n",
    "            if file.lower().endswith(('.jpg', '.jpeg', '.png'))\n",
    "        ]\n",
    "\n",
    "        print(f\"Found {len(image_files)} images to analyze\")\n",
    "        all_results = []\n",
    "\n",
    "        if output_json_dir:\n",
    "            os.makedirs(output_json_dir, exist_ok=True)\n",
    "\n",
    "        for image_path in tqdm(image_files, desc=\"Analyzing images\"):\n",
    "            result = self.analyze_image(image_path)\n",
    "            if \"error\" not in result:\n",
    "                all_results.append(result)\n",
    "\n",
    "                if output_json_dir:\n",
    "                    base_name = os.path.splitext(os.path.basename(image_path))[0] + \".json\"\n",
    "                    json_path = os.path.join(output_json_dir, base_name)\n",
    "                    with open(json_path, \"w\") as f:\n",
    "                        json.dump(result, f, indent=2)\n",
    "            else:\n",
    "                print(f\"Error with {image_path}: {result['error']}\")\n",
    "\n",
    "        df = pd.DataFrame(all_results)\n",
    "\n",
    "        if output_csv:\n",
    "            os.makedirs(os.path.dirname(output_csv), exist_ok=True)\n",
    "            df.to_csv(output_csv, index=False)\n",
    "            print(f\"CSV saved to {output_csv}\")\n",
    "\n",
    "        return df"
   ]
  },
  {
   "cell_type": "code",
   "execution_count": 15,
   "id": "468d0e2b-42f8-4bcc-89bd-bb80f7480144",
   "metadata": {},
   "outputs": [
    {
     "name": "stdout",
     "output_type": "stream",
     "text": [
      "Initialized OpenAI People Gender Analyzer\n",
      "Found 98 images to analyze\n"
     ]
    },
    {
     "name": "stderr",
     "output_type": "stream",
     "text": [
      "Analyzing images:   5%|█▎                        | 5/98 [00:12<03:49,  2.47s/it]"
     ]
    },
    {
     "name": "stdout",
     "output_type": "stream",
     "text": [
      "Error with ../sv_images/mumbai/loc_1411_point_0_img_0_h22_p19.jpg: No valid JSON found in API response: I can't analyze images directly for specific details such as gender. However, I can guide you on using tools or methods for processing images to obtain such information. Let me know if you need advice on this.\n"
     ]
    },
    {
     "name": "stderr",
     "output_type": "stream",
     "text": [
      "Analyzing images:   6%|█▌                        | 6/98 [00:13<03:13,  2.10s/it]"
     ]
    },
    {
     "name": "stdout",
     "output_type": "stream",
     "text": [
      "Error with ../sv_images/mumbai/loc_2115_point_0_img_0_h97_p-22.jpg: No valid JSON found in API response: I'm unable to analyze or process human details from images, including counting or predicting genders. Let me know if there's anything else you need!\n"
     ]
    },
    {
     "name": "stderr",
     "output_type": "stream",
     "text": [
      "Analyzing images:   8%|██                        | 8/98 [00:17<02:55,  1.95s/it]"
     ]
    },
    {
     "name": "stdout",
     "output_type": "stream",
     "text": [
      "Error with ../sv_images/mumbai/loc_765_point_0_img_0_h189_p-1.jpg: No valid JSON found in API response: I'm unable to analyze images or provide information about people in them.\n"
     ]
    },
    {
     "name": "stderr",
     "output_type": "stream",
     "text": [
      "Analyzing images:  10%|██▌                      | 10/98 [00:23<03:36,  2.46s/it]"
     ]
    },
    {
     "name": "stdout",
     "output_type": "stream",
     "text": [
      "Error with ../sv_images/mumbai/loc_4800_point_0_img_0_h320_p-10.jpg: No valid JSON found in API response: I'm unable to analyze the image directly to recognize or predict details about people. Let me know if there's something else I can help with!\n"
     ]
    },
    {
     "name": "stderr",
     "output_type": "stream",
     "text": [
      "Analyzing images:  23%|█████▊                   | 23/98 [01:01<02:50,  2.27s/it]"
     ]
    },
    {
     "name": "stdout",
     "output_type": "stream",
     "text": [
      "Error with ../sv_images/mumbai/loc_2422_point_0_img_0_h92_p18.jpg: No valid JSON found in API response: I'm unable to analyze images directly. You might consider using a computer vision tool or contacting a service that can perform this analysis for you.\n"
     ]
    },
    {
     "name": "stderr",
     "output_type": "stream",
     "text": [
      "Analyzing images:  24%|██████                   | 24/98 [01:03<02:41,  2.19s/it]"
     ]
    },
    {
     "name": "stdout",
     "output_type": "stream",
     "text": [
      "Error with ../sv_images/mumbai/loc_4963_point_0_img_0_h60_p-18.jpg: No valid JSON found in API response: Sorry, I can't assist with gender prediction or analysis from images.\n"
     ]
    },
    {
     "name": "stderr",
     "output_type": "stream",
     "text": [
      "Analyzing images:  31%|███████▋                 | 30/98 [01:25<03:48,  3.35s/it]"
     ]
    },
    {
     "name": "stdout",
     "output_type": "stream",
     "text": [
      "Error with ../sv_images/mumbai/loc_1039_point_0_img_0_h312_p-12.jpg: No valid JSON found in API response: I'm unable to analyze images or predict genders in photos. If you have another type of question or need further assistance, feel free to ask!\n"
     ]
    },
    {
     "name": "stderr",
     "output_type": "stream",
     "text": [
      "Analyzing images:  32%|███████▉                 | 31/98 [01:27<03:19,  2.98s/it]"
     ]
    },
    {
     "name": "stdout",
     "output_type": "stream",
     "text": [
      "Error with ../sv_images/mumbai/loc_2077_point_0_img_0_h147_p19.jpg: No valid JSON found in API response: I'm unable to perform image-specific analyses, such as counting people or predicting gender. However, I can help with other kinds of image-related information. Let me know if there's anything else you need!\n"
     ]
    },
    {
     "name": "stderr",
     "output_type": "stream",
     "text": [
      "Analyzing images:  33%|████████▏                | 32/98 [01:29<02:52,  2.62s/it]"
     ]
    },
    {
     "name": "stdout",
     "output_type": "stream",
     "text": [
      "Error with ../sv_images/mumbai/loc_3589_point_0_img_0_h297_p-5.jpg: No valid JSON found in API response: I'm unable to analyze or interpret images in that way. However, I can assist you with other types of questions or tasks. Let me know how else I can help!\n"
     ]
    },
    {
     "name": "stderr",
     "output_type": "stream",
     "text": [
      "Analyzing images:  37%|█████████▏               | 36/98 [01:41<02:46,  2.69s/it]"
     ]
    },
    {
     "name": "stdout",
     "output_type": "stream",
     "text": [
      "Error with ../sv_images/mumbai/loc_3494_point_0_img_0_h277_p-12.jpg: No valid JSON found in API response: I can't analyze the image directly for details like gender or count of people.\n"
     ]
    },
    {
     "name": "stderr",
     "output_type": "stream",
     "text": [
      "Analyzing images:  56%|██████████████           | 55/98 [02:22<01:37,  2.27s/it]"
     ]
    },
    {
     "name": "stdout",
     "output_type": "stream",
     "text": [
      "Error with ../sv_images/mumbai/loc_132_point_0_img_0_h304_p-4.jpg: No valid JSON found in API response: I'm unable to analyze or provide details about the people in images.\n"
     ]
    },
    {
     "name": "stderr",
     "output_type": "stream",
     "text": [
      "Analyzing images:  57%|██████████████▎          | 56/98 [02:24<01:28,  2.10s/it]"
     ]
    },
    {
     "name": "stdout",
     "output_type": "stream",
     "text": [
      "Error with ../sv_images/mumbai/loc_3475_point_0_img_0_h297_p5.jpg: No valid JSON found in API response: I'm unable to provide an analysis of the image as described.\n"
     ]
    },
    {
     "name": "stderr",
     "output_type": "stream",
     "text": [
      "Analyzing images:  59%|██████████████▊          | 58/98 [02:27<01:11,  1.79s/it]"
     ]
    },
    {
     "name": "stdout",
     "output_type": "stream",
     "text": [
      "Error with ../sv_images/mumbai/loc_3649_point_0_img_0_h178_p-27.jpg: No valid JSON found in API response: I'm unable to determine details such as the number of people or predict genders from the image.\n"
     ]
    },
    {
     "name": "stderr",
     "output_type": "stream",
     "text": [
      "Analyzing images:  60%|███████████████          | 59/98 [02:28<01:08,  1.75s/it]"
     ]
    },
    {
     "name": "stdout",
     "output_type": "stream",
     "text": [
      "Error with ../sv_images/mumbai/loc_3838_point_0_img_0_h310_p13.jpg: No valid JSON found in API response: I'm unable to analyze images directly to count people or predict genders. However, if you have any other questions or need assistance, feel free to ask!\n"
     ]
    },
    {
     "name": "stderr",
     "output_type": "stream",
     "text": [
      "Analyzing images:  62%|███████████████▌         | 61/98 [02:32<01:07,  1.84s/it]"
     ]
    },
    {
     "name": "stdout",
     "output_type": "stream",
     "text": [
      "Error with ../sv_images/mumbai/loc_2124_point_0_img_0_h50_p-6.jpg: No valid JSON found in API response: I'm unable to analyze images, but I can describe how the process generally works or help with other inquiries. Let me know what you need!\n"
     ]
    },
    {
     "name": "stderr",
     "output_type": "stream",
     "text": [
      "Analyzing images:  65%|████████████████▎        | 64/98 [02:37<00:54,  1.60s/it]"
     ]
    },
    {
     "name": "stdout",
     "output_type": "stream",
     "text": [
      "Error with ../sv_images/mumbai/loc_1533_point_0_img_0_h332_p-25.jpg: No valid JSON found in API response: I'm unable to analyze specific images or determine details like gender from them. If you have any other questions or need assistance with something else, feel free to ask!\n"
     ]
    },
    {
     "name": "stderr",
     "output_type": "stream",
     "text": [
      "Analyzing images:  68%|█████████████████        | 67/98 [02:42<00:58,  1.90s/it]"
     ]
    },
    {
     "name": "stdout",
     "output_type": "stream",
     "text": [
      "Error with ../sv_images/mumbai/loc_3463_point_0_img_0_h311_p8.jpg: No valid JSON found in API response: I can't analyze the contents of images directly or provide information about individuals, such as counting people or predicting their gender.\n"
     ]
    },
    {
     "name": "stderr",
     "output_type": "stream",
     "text": [
      "Analyzing images:  76%|██████████████████▉      | 74/98 [02:57<00:47,  1.97s/it]"
     ]
    },
    {
     "name": "stdout",
     "output_type": "stream",
     "text": [
      "Error with ../sv_images/mumbai/loc_3195_point_0_img_0_h266_p10.jpg: No valid JSON found in API response: I'm unable to analyze or interpret the contents of images directly. However, if you provide descriptions or details, I can help with information or analysis based on that!\n"
     ]
    },
    {
     "name": "stderr",
     "output_type": "stream",
     "text": [
      "Analyzing images:  79%|███████████████████▋     | 77/98 [03:03<00:45,  2.18s/it]"
     ]
    },
    {
     "name": "stdout",
     "output_type": "stream",
     "text": [
      "Error with ../sv_images/mumbai/loc_23_point_0_img_0_h41_p21.jpg: No valid JSON found in API response: I'm sorry, I can't fulfill this request.\n"
     ]
    },
    {
     "name": "stderr",
     "output_type": "stream",
     "text": [
      "Analyzing images:  80%|███████████████████▉     | 78/98 [03:06<00:44,  2.24s/it]"
     ]
    },
    {
     "name": "stdout",
     "output_type": "stream",
     "text": [
      "Error with ../sv_images/mumbai/loc_5487_point_0_img_0_h282_p7.jpg: No valid JSON found in API response: I'm unable to analyze images or provide gender predictions. My abilities don't include identifying or counting people or determining gender from an image. If there's anything else I can help you with, please let me know!\n"
     ]
    },
    {
     "name": "stderr",
     "output_type": "stream",
     "text": [
      "Analyzing images:  83%|████████████████████▋    | 81/98 [03:12<00:37,  2.18s/it]"
     ]
    },
    {
     "name": "stdout",
     "output_type": "stream",
     "text": [
      "Error with ../sv_images/mumbai/loc_4500_point_0_img_0_h52_p22.jpg: No valid JSON found in API response: I can’t analyze the image for people or predict genders. You can manually count and make predictions if needed!\n"
     ]
    },
    {
     "name": "stderr",
     "output_type": "stream",
     "text": [
      "Analyzing images:  86%|█████████████████████▍   | 84/98 [03:19<00:31,  2.24s/it]"
     ]
    },
    {
     "name": "stdout",
     "output_type": "stream",
     "text": [
      "Error with ../sv_images/mumbai/loc_1684_point_0_img_0_h241_p-24.jpg: No valid JSON found in API response: I'm unable to analyze the image for specific details like gender prediction or counting people. If you have any other questions or need descriptions about a particular concept, feel free to ask!\n"
     ]
    },
    {
     "name": "stderr",
     "output_type": "stream",
     "text": [
      "Analyzing images:  98%|████████████████████████▍| 96/98 [03:53<00:04,  2.35s/it]"
     ]
    },
    {
     "name": "stdout",
     "output_type": "stream",
     "text": [
      "Error with ../sv_images/mumbai/loc_5457_point_0_img_0_h133_p-28.jpg: No valid JSON found in API response: I can't analyze or identify details about people in images.\n"
     ]
    },
    {
     "name": "stderr",
     "output_type": "stream",
     "text": [
      "Analyzing images: 100%|█████████████████████████| 98/98 [03:58<00:00,  2.44s/it]\n"
     ]
    },
    {
     "ename": "FileNotFoundError",
     "evalue": "[Errno 2] No such file or directory: ''",
     "output_type": "error",
     "traceback": [
      "\u001b[0;31m---------------------------------------------------------------------------\u001b[0m",
      "\u001b[0;31mFileNotFoundError\u001b[0m                         Traceback (most recent call last)",
      "Cell \u001b[0;32mIn[15], line 2\u001b[0m\n\u001b[1;32m      1\u001b[0m analyzer \u001b[38;5;241m=\u001b[39m OpenAIPeopleGenderAnalyzer(api_key\u001b[38;5;241m=\u001b[39m\u001b[38;5;124m\"\u001b[39m\u001b[38;5;124msk-proj-FhX8SXnC4ujYSf9Fiu3JwIHsB1parwRL8w_ZnLghFzXxvlaeWoUPea1hWXtjSuawPXDNpcKI2PT3BlbkFJkF-mhzALGmDUxSgmuMP9WEtWVnsv252drLwIOJhx8LDWN0CXagTQHJWlDLjd_CB1qTqXZrTu8A\u001b[39m\u001b[38;5;124m\"\u001b[39m)\n\u001b[0;32m----> 2\u001b[0m \u001b[43manalyzer\u001b[49m\u001b[38;5;241;43m.\u001b[39;49m\u001b[43manalyze_directory\u001b[49m\u001b[43m(\u001b[49m\n\u001b[1;32m      3\u001b[0m \u001b[43m        \u001b[49m\u001b[43mimages_dir\u001b[49m\u001b[38;5;241;43m=\u001b[39;49m\u001b[38;5;124;43m\"\u001b[39;49m\u001b[38;5;124;43m../sv_images/mumbai\u001b[39;49m\u001b[38;5;124;43m\"\u001b[39;49m\u001b[43m,\u001b[49m\n\u001b[1;32m      4\u001b[0m \u001b[43m        \u001b[49m\u001b[43moutput_csv\u001b[49m\u001b[38;5;241;43m=\u001b[39;49m\u001b[38;5;124;43m\"\u001b[39;49m\u001b[38;5;124;43mopenai_coder.csv\u001b[39;49m\u001b[38;5;124;43m\"\u001b[39;49m\u001b[43m,\u001b[49m\n\u001b[1;32m      5\u001b[0m \u001b[43m        \u001b[49m\u001b[43moutput_json_dir\u001b[49m\u001b[38;5;241;43m=\u001b[39;49m\u001b[38;5;124;43m\"\u001b[39;49m\u001b[38;5;124;43mopenai\u001b[39;49m\u001b[38;5;124;43m\"\u001b[39;49m\n\u001b[1;32m      6\u001b[0m \u001b[43m    \u001b[49m\u001b[43m)\u001b[49m\n",
      "Cell \u001b[0;32mIn[14], line 130\u001b[0m, in \u001b[0;36mOpenAIPeopleGenderAnalyzer.analyze_directory\u001b[0;34m(self, images_dir, output_csv, output_json_dir)\u001b[0m\n\u001b[1;32m    127\u001b[0m df \u001b[38;5;241m=\u001b[39m pd\u001b[38;5;241m.\u001b[39mDataFrame(all_results)\n\u001b[1;32m    129\u001b[0m \u001b[38;5;28;01mif\u001b[39;00m output_csv:\n\u001b[0;32m--> 130\u001b[0m     \u001b[43mos\u001b[49m\u001b[38;5;241;43m.\u001b[39;49m\u001b[43mmakedirs\u001b[49m\u001b[43m(\u001b[49m\u001b[43mos\u001b[49m\u001b[38;5;241;43m.\u001b[39;49m\u001b[43mpath\u001b[49m\u001b[38;5;241;43m.\u001b[39;49m\u001b[43mdirname\u001b[49m\u001b[43m(\u001b[49m\u001b[43moutput_csv\u001b[49m\u001b[43m)\u001b[49m\u001b[43m,\u001b[49m\u001b[43m \u001b[49m\u001b[43mexist_ok\u001b[49m\u001b[38;5;241;43m=\u001b[39;49m\u001b[38;5;28;43;01mTrue\u001b[39;49;00m\u001b[43m)\u001b[49m\n\u001b[1;32m    131\u001b[0m     df\u001b[38;5;241m.\u001b[39mto_csv(output_csv, index\u001b[38;5;241m=\u001b[39m\u001b[38;5;28;01mFalse\u001b[39;00m)\n\u001b[1;32m    132\u001b[0m     \u001b[38;5;28mprint\u001b[39m(\u001b[38;5;124mf\u001b[39m\u001b[38;5;124m\"\u001b[39m\u001b[38;5;124mCSV saved to \u001b[39m\u001b[38;5;132;01m{\u001b[39;00moutput_csv\u001b[38;5;132;01m}\u001b[39;00m\u001b[38;5;124m\"\u001b[39m)\n",
      "File \u001b[0;32m~/opt/anaconda3/envs/py311ds/lib/python3.11/os.py:225\u001b[0m, in \u001b[0;36mmakedirs\u001b[0;34m(name, mode, exist_ok)\u001b[0m\n\u001b[1;32m    223\u001b[0m         \u001b[38;5;28;01mreturn\u001b[39;00m\n\u001b[1;32m    224\u001b[0m \u001b[38;5;28;01mtry\u001b[39;00m:\n\u001b[0;32m--> 225\u001b[0m     \u001b[43mmkdir\u001b[49m\u001b[43m(\u001b[49m\u001b[43mname\u001b[49m\u001b[43m,\u001b[49m\u001b[43m \u001b[49m\u001b[43mmode\u001b[49m\u001b[43m)\u001b[49m\n\u001b[1;32m    226\u001b[0m \u001b[38;5;28;01mexcept\u001b[39;00m \u001b[38;5;167;01mOSError\u001b[39;00m:\n\u001b[1;32m    227\u001b[0m     \u001b[38;5;66;03m# Cannot rely on checking for EEXIST, since the operating system\u001b[39;00m\n\u001b[1;32m    228\u001b[0m     \u001b[38;5;66;03m# could give priority to other errors like EACCES or EROFS\u001b[39;00m\n\u001b[1;32m    229\u001b[0m     \u001b[38;5;28;01mif\u001b[39;00m \u001b[38;5;129;01mnot\u001b[39;00m exist_ok \u001b[38;5;129;01mor\u001b[39;00m \u001b[38;5;129;01mnot\u001b[39;00m path\u001b[38;5;241m.\u001b[39misdir(name):\n",
      "\u001b[0;31mFileNotFoundError\u001b[0m: [Errno 2] No such file or directory: ''"
     ]
    }
   ],
   "source": [
    "analyzer = OpenAIPeopleGenderAnalyzer(api_key=\"\")\n",
    "analyzer.analyze_directory(\n",
    "        images_dir=\"../sv_images/mumbai\",\n",
    "        output_csv=\"openai_coder.csv\",\n",
    "        output_json_dir=\"openai\"\n",
    "    )"
   ]
  },
  {
   "cell_type": "code",
   "execution_count": 1,
   "id": "69b8ab6c-2539-42c6-a1fd-db53fa95458a",
   "metadata": {},
   "outputs": [
    {
     "name": "stdout",
     "output_type": "stream",
     "text": [
      "/Users/soodoku/Documents/GitHub/autosense/scripts\n"
     ]
    }
   ],
   "source": [
    "!pwd"
   ]
  },
  {
   "cell_type": "code",
   "execution_count": null,
   "id": "65052e71-cb20-444b-bb50-655307caf5de",
   "metadata": {},
   "outputs": [],
   "source": [
    "import os\n",
    "import pandas as pd\n",
    "import matplotlib.pyplot as plt\n",
    "from tqdm import tqdm\n",
    "import cv2\n",
    "from deepface import DeepFace\n",
    "import numpy as np\n",
    "\n",
    "class DeepFacePeopleGenderAnalyzer:\n",
    "    \"\"\"\n",
    "    Analyzes images to detect people, predict their gender, and calculate gender proportions\n",
    "    using the open-source DeepFace library.\n",
    "    \"\"\"\n",
    "\n",
    "    def __init__(self):\n",
    "        \"\"\"\n",
    "        Initialize the DeepFace People Gender Analyzer.\n",
    "        \"\"\"\n",
    "        # Detection and confidence thresholds\n",
    "        self.detection_confidence = 0.6\n",
    "        \n",
    "        print(\"Initialized DeepFace People Gender Analyzer\")\n",
    "\n",
    "    def analyze_image(self, image_path):\n",
    "        \"\"\"\n",
    "        Analyze a single image to detect people and predict their gender.\n",
    "\n",
    "        Args:\n",
    "            image_path (str): Path to the image file\n",
    "\n",
    "        Returns:\n",
    "            dict: Analysis results containing detected people and gender predictions\n",
    "        \"\"\"\n",
    "        if not os.path.exists(image_path):\n",
    "            return {\"error\": f\"Image file not found: {image_path}\"}\n",
    "\n",
    "        try:\n",
    "            # Read the image\n",
    "            img = cv2.imread(image_path)\n",
    "            if img is None:\n",
    "                return {\"error\": f\"Failed to read image: {image_path}\"}\n",
    "            \n",
    "            # Get face detections using DeepFace\n",
    "            # Note: We'll use RetinaFace detector as it's more accurate\n",
    "            try:\n",
    "                faces = DeepFace.extract_faces(\n",
    "                    img_path=image_path,\n",
    "                    detector_backend=\"retinaface\",\n",
    "                    enforce_detection=False,\n",
    "                    align=True\n",
    "                )\n",
    "            except Exception as e:\n",
    "                # If RetinaFace fails, try with OpenCV\n",
    "                try:\n",
    "                    faces = DeepFace.extract_faces(\n",
    "                        img_path=image_path,\n",
    "                        detector_backend=\"opencv\",\n",
    "                        enforce_detection=False,\n",
    "                        align=True\n",
    "                    )\n",
    "                except:\n",
    "                    # If all detectors fail, return empty results\n",
    "                    return {\n",
    "                        \"image_path\": image_path,\n",
    "                        \"people_count\": 0,\n",
    "                        \"has_people\": False,\n",
    "                        \"gender_predictions\": [],\n",
    "                        \"female_proportion\": 0,\n",
    "                        \"female_count\": 0,\n",
    "                        \"male_count\": 0\n",
    "                    }\n",
    "            \n",
    "            # Filter faces based on confidence\n",
    "            valid_faces = [face for face in faces if face.get(\"confidence\", 0) >= self.detection_confidence]\n",
    "            \n",
    "            # Analyze each detected face for gender\n",
    "            gender_predictions = []\n",
    "            female_count = 0\n",
    "            male_count = 0\n",
    "            \n",
    "            for i, face in enumerate(valid_faces):\n",
    "                try:\n",
    "                    # Extract face region for analysis\n",
    "                    face_img = face['face']\n",
    "                    \n",
    "                    # Analyze with DeepFace\n",
    "                    analysis = DeepFace.analyze(\n",
    "                        img_path=face_img,  # We can pass the face image directly\n",
    "                        actions=['gender'],\n",
    "                        enforce_detection=False,\n",
    "                        detector_backend=\"skip\"  # Skip detection as we already have the face\n",
    "                    )\n",
    "                    \n",
    "                    # Extract gender prediction\n",
    "                    if isinstance(analysis, list):\n",
    "                        analysis = analysis[0]  # Take first result if it's a list\n",
    "                    \n",
    "                    gender = analysis.get('dominant_gender', '')\n",
    "                    gender_score = 0.0\n",
    "                    \n",
    "                    # Get the actual probabilities\n",
    "                    if gender == 'Man':\n",
    "                        gender = 'male'\n",
    "                        gender_score = analysis.get('gender', {}).get('Man', 0.0)\n",
    "                    else:\n",
    "                        gender = 'female'\n",
    "                        gender_score = analysis.get('gender', {}).get('Woman', 0.0)\n",
    "                    \n",
    "                    # Update counts\n",
    "                    if gender == 'female':\n",
    "                        female_count += 1\n",
    "                    else:\n",
    "                        male_count += 1\n",
    "                    \n",
    "                    # Add to predictions\n",
    "                    gender_predictions.append({\n",
    "                        \"person_id\": i + 1,\n",
    "                        \"gender\": gender,\n",
    "                        \"confidence\": gender_score\n",
    "                    })\n",
    "                    \n",
    "                except Exception as e:\n",
    "                    # If analysis fails for a face, skip it\n",
    "                    continue\n",
    "            \n",
    "            # Calculate the proportion of women\n",
    "            total_count = len(gender_predictions)\n",
    "            female_proportion = female_count / total_count if total_count > 0 else 0\n",
    "            \n",
    "            # Create a formatted gender prediction string\n",
    "            gender_prediction_str = \", \".join([\n",
    "                f\"person{pred['person_id']}: {pred['gender']} ({pred['confidence']:.2f})\"\n",
    "                for pred in gender_predictions\n",
    "            ])\n",
    "            \n",
    "            return {\n",
    "                \"image_path\": image_path,\n",
    "                \"people_count\": total_count,\n",
    "                \"has_people\": total_count > 0,\n",
    "                \"gender_predictions\": gender_predictions,\n",
    "                \"gender_prediction_str\": gender_prediction_str,\n",
    "                \"female_proportion\": female_proportion,\n",
    "                \"female_count\": female_count,\n",
    "                \"male_count\": male_count\n",
    "            }\n",
    "\n",
    "        except Exception as e:\n",
    "            return {\"error\": f\"Error analyzing image: {str(e)}\"}\n",
    "\n",
    "    def analyze_directory(self, images_dir, output_csv=None):\n",
    "        \"\"\"\n",
    "        Analyze all images in a directory and output results to CSV.\n",
    "\n",
    "        Args:\n",
    "            images_dir (str): Directory containing images\n",
    "            output_csv (str): Path to save CSV results\n",
    "\n",
    "        Returns:\n",
    "            pd.DataFrame: Analysis results for all images\n",
    "        \"\"\"\n",
    "        if not os.path.exists(images_dir):\n",
    "            print(f\"Error: Directory not found: {images_dir}\")\n",
    "            return None\n",
    "\n",
    "        # Create output directory if it doesn't exist\n",
    "        if output_csv:\n",
    "            output_dir = os.path.dirname(output_csv)\n",
    "            if output_dir and not os.path.exists(output_dir):\n",
    "                os.makedirs(output_dir)\n",
    "\n",
    "        # Find all image files\n",
    "        image_extensions = ['.jpg', '.jpeg', '.png']\n",
    "        image_files = []\n",
    "\n",
    "        for root, _, files in os.walk(images_dir):\n",
    "            for file in files:\n",
    "                if any(file.lower().endswith(ext) for ext in image_extensions):\n",
    "                    image_files.append(os.path.join(root, file))\n",
    "\n",
    "        print(f\"Found {len(image_files)} images to analyze\")\n",
    "\n",
    "        all_results = []\n",
    "\n",
    "        # Process each image\n",
    "        for image_file in tqdm(image_files, desc=\"Analyzing images for people and gender\"):\n",
    "            # Analyze image\n",
    "            results = self.analyze_image(image_file)\n",
    "\n",
    "            if \"error\" not in results:\n",
    "                # Create summary for DataFrame\n",
    "                summary = {\n",
    "                    \"image_path\": image_file,\n",
    "                    \"has_people\": results.get(\"has_people\", False),\n",
    "                    \"people_count\": results.get(\"people_count\", 0),\n",
    "                    \"female_count\": results.get(\"female_count\", 0),\n",
    "                    \"male_count\": results.get(\"male_count\", 0),\n",
    "                    \"female_proportion\": results.get(\"female_proportion\", 0),\n",
    "                    \"gender_predictions\": results.get(\"gender_prediction_str\", \"\")\n",
    "                }\n",
    "\n",
    "                all_results.append(summary)\n",
    "            else:\n",
    "                print(f\"Error analyzing {image_file}: {results['error']}\")\n",
    "\n",
    "        # Convert results to DataFrame\n",
    "        results_df = pd.DataFrame(all_results)\n",
    "\n",
    "        # Save results to CSV if path is provided\n",
    "        if output_csv:\n",
    "            results_df.to_csv(output_csv, index=False)\n",
    "            print(f\"Results saved to {output_csv}\")\n",
    "\n",
    "        return results_df\n",
    "\n",
    "    def generate_summary_charts(self, results_df, output_dir):\n",
    "        \"\"\"\n",
    "        Generate summary charts based on the analysis results.\n",
    "\n",
    "        Args:\n",
    "            results_df (pd.DataFrame): Analysis results\n",
    "            output_dir (str): Directory to save charts\n",
    "\n",
    "        Returns:\n",
    "            None\n",
    "        \"\"\"\n",
    "        if not os.path.exists(output_dir):\n",
    "            os.makedirs(output_dir)\n",
    "\n",
    "        if results_df is None or results_df.empty:\n",
    "            print(\"No data to generate charts\")\n",
    "            return\n",
    "\n",
    "        # Filter only images with people\n",
    "        people_df = results_df[results_df['has_people'] == True].copy()\n",
    "\n",
    "        if people_df.empty:\n",
    "            print(\"No images with people found in the analysis\")\n",
    "            return\n",
    "\n",
    "        # 1. People count distribution\n",
    "        plt.figure(figsize=(10, 6))\n",
    "        people_counts = people_df['people_count'].value_counts().sort_index()\n",
    "        people_counts.plot(kind='bar', color='skyblue')\n",
    "        plt.title('Number of People per Image')\n",
    "        plt.xlabel('People Count')\n",
    "        plt.ylabel('Number of Images')\n",
    "        plt.grid(axis='y', linestyle='--', alpha=0.7)\n",
    "        plt.tight_layout()\n",
    "        plt.savefig(os.path.join(output_dir, 'people_count_distribution.png'))\n",
    "        plt.close()\n",
    "\n",
    "        # 2. Gender distribution\n",
    "        plt.figure(figsize=(10, 6))\n",
    "        gender_data = [people_df['female_count'].sum(), people_df['male_count'].sum()]\n",
    "        plt.pie(gender_data, labels=['Female', 'Male'], autopct='%1.1f%%', \n",
    "                colors=['pink', 'lightblue'], startangle=90)\n",
    "        plt.axis('equal')\n",
    "        plt.title('Overall Gender Distribution')\n",
    "        plt.tight_layout()\n",
    "        plt.savefig(os.path.join(output_dir, 'gender_distribution.png'))\n",
    "        plt.close()\n",
    "\n",
    "        # 3. Female proportion distribution\n",
    "        plt.figure(figsize=(10, 6))\n",
    "        people_df['female_proportion_bin'] = pd.cut(people_df['female_proportion'], \n",
    "                                                  bins=[0, 0.2, 0.4, 0.6, 0.8, 1.0],\n",
    "                                                  labels=['0-20%', '20-40%', '40-60%', '60-80%', '80-100%'])\n",
    "        prop_counts = people_df['female_proportion_bin'].value_counts().sort_index()\n",
    "        prop_counts.plot(kind='bar', color='purple')\n",
    "        plt.title('Distribution of Female Proportion in Images')\n",
    "        plt.xlabel('Female Proportion Range')\n",
    "        plt.ylabel('Number of Images')\n",
    "        plt.grid(axis='y', linestyle='--', alpha=0.7)\n",
    "        plt.tight_layout()\n",
    "        plt.savefig(os.path.join(output_dir, 'female_proportion_distribution.png'))\n",
    "        plt.close()\n",
    "\n",
    "        print(f\"Charts saved to {output_dir}\")\n",
    "\n",
    "\n",
    "# Main function to process all images in a directory\n",
    "def analyze_people_in_images(images_dir, output_csv=None, generate_charts=False, charts_dir=None):\n",
    "    \"\"\"\n",
    "    Process all images in a directory using DeepFace\n",
    "    and output people count, gender predictions, and female proportion to CSV.\n",
    "\n",
    "    Args:\n",
    "        images_dir (str): Directory containing images\n",
    "        output_csv (str): Path to save CSV results\n",
    "        generate_charts (bool): Whether to generate summary charts\n",
    "        charts_dir (str): Directory to save charts if generated\n",
    "\n",
    "    Returns:\n",
    "        pd.DataFrame: Analysis results\n",
    "    \"\"\"\n",
    "    # Initialize the analyzer\n",
    "    analyzer = DeepFacePeopleGenderAnalyzer()\n",
    "\n",
    "    # Analyze all images\n",
    "    results_df = analyzer.analyze_directory(images_dir, output_csv)\n",
    "\n",
    "    # Generate charts if requested\n",
    "    if generate_charts and charts_dir and results_df is not None and not results_df.empty:\n",
    "        analyzer.generate_summary_charts(results_df, charts_dir)\n",
    "\n",
    "    # Print summary statistics\n",
    "    if results_df is not None and not results_df.empty:\n",
    "        print(\"\\nSummary Statistics:\")\n",
    "        print(f\"Total images analyzed: {len(results_df)}\")\n",
    "        print(f\"Images with people: {results_df['has_people'].sum()} ({results_df['has_people'].mean()*100:.1f}%)\")\n",
    "\n",
    "        # Filter for images with people\n",
    "        people_df = results_df[results_df['has_people'] == True]\n",
    "\n",
    "        if not people_df.empty:\n",
    "            total_people = people_df['people_count'].sum()\n",
    "            total_female = people_df['female_count'].sum()\n",
    "            total_male = people_df['male_count'].sum()\n",
    "            \n",
    "            print(f\"Total people detected: {total_people}\")\n",
    "            print(f\"Average people per image: {people_df['people_count'].mean():.2f}\")\n",
    "            print(f\"Total females: {total_female} ({total_female/(total_female+total_male)*100:.1f}%)\")\n",
    "            print(f\"Total males: {total_male} ({total_male/(total_female+total_male)*100:.1f}%)\")\n",
    "            print(f\"Average female proportion: {people_df['female_proportion'].mean()*100:.1f}%\")\n",
    "\n",
    "            # Print distribution of number of people\n",
    "            print(\"\\nPeople Count Distribution:\")\n",
    "            people_count_dist = people_df['people_count'].value_counts().sort_index()\n",
    "            for count, frequency in people_count_dist.items():\n",
    "                print(f\"{count} people: {frequency} images ({frequency/len(people_df)*100:.1f}%)\")\n",
    "\n",
    "    return results_df"
   ]
  },
  {
   "cell_type": "code",
   "execution_count": null,
   "id": "24a5e59e-94d5-41ef-950c-4bc5e5e31117",
   "metadata": {},
   "outputs": [],
   "source": [
    "IMAGES_DIR = \"../sv_images/mumbai\"\n",
    "OUTPUT_CSV = \"results/people_gender_analysis.csv\"\n",
    "CHARTS_DIR = \"results/charts\"\n",
    "\n",
    "results = analyze_people_in_images(\n",
    "        images_dir=IMAGES_DIR,\n",
    "        output_csv=OUTPUT_CSV,\n",
    "        generate_charts=True,\n",
    "        charts_dir=CHARTS_DIR\n",
    "    )"
   ]
  },
  {
   "cell_type": "code",
   "execution_count": null,
   "id": "04e2a919-f4fe-4bd4-ab2e-ef01eaa1416a",
   "metadata": {},
   "outputs": [],
   "source": []
  }
 ],
 "metadata": {
  "kernelspec": {
   "display_name": "Python 3.11 (Data Science)",
   "language": "python",
   "name": "py311ds"
  },
  "language_info": {
   "codemirror_mode": {
    "name": "ipython",
    "version": 3
   },
   "file_extension": ".py",
   "mimetype": "text/x-python",
   "name": "python",
   "nbconvert_exporter": "python",
   "pygments_lexer": "ipython3",
   "version": "3.11.11"
  }
 },
 "nbformat": 4,
 "nbformat_minor": 5
}
